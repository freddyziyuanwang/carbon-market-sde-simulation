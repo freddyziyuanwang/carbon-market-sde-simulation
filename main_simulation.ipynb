{
 "cells": [
  {
   "cell_type": "markdown",
   "id": "be8cab56",
   "metadata": {},
   "source": [
    "# Carbon Market SDE Simulation\n",
    "This notebook simulates price dynamics in carbon emission trading markets using a nonlinear stochastic differential equation (SDE) with jump diffusion and policy feedback."
   ]
  },
  {
   "cell_type": "code",
   "execution_count": null,
   "id": "7a09f62f",
   "metadata": {},
   "outputs": [],
   "source": [
    "import numpy as np\n",
    "import matplotlib.pyplot as plt\n",
    "from scipy.stats import poisson"
   ]
  },
  {
   "cell_type": "code",
   "execution_count": null,
   "id": "3482f00e",
   "metadata": {},
   "outputs": [],
   "source": [
    "# Simulation parameters\n",
    "T = 1.0\n",
    "N = 500\n",
    "dt = T / N\n",
    "time = np.linspace(0, T, N+1)\n",
    "P0 = 1.0\n",
    "\n",
    "# Model parameters\n",
    "alpha = 0.5\n",
    "delta = 2.0\n",
    "g0 = 0.4\n",
    "lam = 2.0\n",
    "beta = 0.3\n",
    "sigma0 = 0.2\n",
    "gamma = 1.0\n",
    "eta = 0.1\n",
    "theta = 0.3\n",
    "kappa = 0.5\n",
    "lambda0 = 10\n"
   ]
  },
  {
   "cell_type": "markdown",
   "id": "5bb7d096",
   "metadata": {},
   "source": [
    "## Simulate a Single Price Path"
   ]
  },
  {
   "cell_type": "code",
   "execution_count": null,
   "id": "60feb4d2",
   "metadata": {},
   "outputs": [],
   "source": [
    "P = np.zeros(N+1)\n",
    "P[0] = P0\n",
    "jumps = []\n",
    "\n",
    "np.random.seed(42)\n",
    "for t in range(N):\n",
    "    current_t = time[t]\n",
    "    gt = g0 * np.exp(-lam * current_t)\n",
    "    mu = alpha * (1 - P[t]**delta) + gt + beta * P[t] * gt\n",
    "    dWt = np.random.normal(0, np.sqrt(dt))\n",
    "    dNt = np.random.poisson(lambda0 * dt)\n",
    "    sigma = sigma0 * (1 + gamma * np.sin(P[t])) + eta * P[t] * dNt\n",
    "    J = theta * P[t]**(1 + kappa) * (1 + lam * gt) * dNt\n",
    "    P[t+1] = P[t] + mu * dt + sigma * dWt + J\n",
    "    if dNt > 0:\n",
    "        jumps.append(t)\n",
    "\n",
    "plt.figure(figsize=(10, 5))\n",
    "plt.plot(time, P, label='Simulated Price Path')\n",
    "plt.scatter(time[jumps], P[jumps], color='red', label='Jumps')\n",
    "plt.title('Optimized Single Simulated Price Path')\n",
    "plt.xlabel('Time')\n",
    "plt.ylabel('Price')\n",
    "plt.legend()\n",
    "plt.grid(True)\n",
    "plt.tight_layout()\n",
    "plt.show()"
   ]
  },
  {
   "cell_type": "markdown",
   "id": "ace5ebae",
   "metadata": {},
   "source": [
    "## Final Price Distribution from Multiple Paths"
   ]
  },
  {
   "cell_type": "code",
   "execution_count": null,
   "id": "05afa5da",
   "metadata": {},
   "outputs": [],
   "source": [
    "num_paths = 1000\n",
    "final_prices = []\n",
    "np.random.seed(123)\n",
    "for i in range(num_paths):\n",
    "    P = np.zeros(N+1)\n",
    "    P[0] = P0\n",
    "    for t in range(N):\n",
    "        current_t = time[t]\n",
    "        gt = g0 * np.exp(-lam * current_t)\n",
    "        mu = alpha * (1 - P[t]**delta) + gt + beta * P[t] * gt\n",
    "        dWt = np.random.normal(0, np.sqrt(dt))\n",
    "        dNt = np.random.poisson(lambda0 * dt)\n",
    "        sigma = sigma0 * (1 + gamma * np.sin(P[t])) + eta * P[t] * dNt\n",
    "        J = theta * P[t]**(1 + kappa) * (1 + lam * gt) * dNt\n",
    "        P[t+1] = P[t] + mu * dt + sigma * dWt + J\n",
    "    final_prices.append(P[-1])\n",
    "\n",
    "plt.figure(figsize=(10, 5))\n",
    "plt.hist(final_prices, bins=50, color='skyblue', edgecolor='black', density=True)\n",
    "plt.title('Final Price Distribution from 1000 Simulated Paths')\n",
    "plt.xlabel('Final Price')\n",
    "plt.ylabel('Density')\n",
    "plt.grid(True)\n",
    "plt.tight_layout()\n",
    "plt.show()"
   ]
  }
 ],
 "metadata": {},
 "nbformat": 4,
 "nbformat_minor": 5
}
